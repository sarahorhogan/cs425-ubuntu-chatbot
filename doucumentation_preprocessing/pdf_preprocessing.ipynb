{
 "cells": [
  {
   "cell_type": "code",
   "execution_count": 3,
   "metadata": {},
   "outputs": [
    {
     "name": "stdout",
     "output_type": "stream",
     "text": [
      "Collecting langchain\n",
      "  Obtaining dependency information for langchain from https://files.pythonhosted.org/packages/5a/52/851a5e896ead3c22b04caab67b38805f9dbfa7b59e69b5d9dcd06a6a6c9b/langchain-0.0.314-py3-none-any.whl.metadata\n",
      "  Downloading langchain-0.0.314-py3-none-any.whl.metadata (15 kB)\n",
      "Requirement already satisfied: PyYAML>=5.3 in /Users/reginachua/anaconda3/lib/python3.11/site-packages (from langchain) (6.0)\n",
      "Requirement already satisfied: SQLAlchemy<3,>=1.4 in /Users/reginachua/anaconda3/lib/python3.11/site-packages (from langchain) (1.4.39)\n",
      "Requirement already satisfied: aiohttp<4.0.0,>=3.8.3 in /Users/reginachua/anaconda3/lib/python3.11/site-packages (from langchain) (3.8.3)\n",
      "Requirement already satisfied: anyio<4.0 in /Users/reginachua/anaconda3/lib/python3.11/site-packages (from langchain) (3.5.0)\n",
      "Collecting dataclasses-json<0.7,>=0.5.7 (from langchain)\n",
      "  Obtaining dependency information for dataclasses-json<0.7,>=0.5.7 from https://files.pythonhosted.org/packages/21/1f/1cff009cff64420572b9f75b70e4a054095719179a172297dfdd65843162/dataclasses_json-0.6.1-py3-none-any.whl.metadata\n",
      "  Downloading dataclasses_json-0.6.1-py3-none-any.whl.metadata (24 kB)\n",
      "Collecting jsonpatch<2.0,>=1.33 (from langchain)\n",
      "  Obtaining dependency information for jsonpatch<2.0,>=1.33 from https://files.pythonhosted.org/packages/73/07/02e16ed01e04a374e644b575638ec7987ae846d25ad97bcc9945a3ee4b0e/jsonpatch-1.33-py2.py3-none-any.whl.metadata\n",
      "  Downloading jsonpatch-1.33-py2.py3-none-any.whl.metadata (3.0 kB)\n",
      "Collecting langsmith<0.1.0,>=0.0.43 (from langchain)\n",
      "  Obtaining dependency information for langsmith<0.1.0,>=0.0.43 from https://files.pythonhosted.org/packages/9b/6c/fd466f647634ef4a668ea109bf0892d7f78882ffe09500429081ed6dae4a/langsmith-0.0.43-py3-none-any.whl.metadata\n",
      "  Downloading langsmith-0.0.43-py3-none-any.whl.metadata (10 kB)\n",
      "Requirement already satisfied: numpy<2,>=1 in /Users/reginachua/anaconda3/lib/python3.11/site-packages (from langchain) (1.24.3)\n",
      "Collecting pydantic<3,>=1 (from langchain)\n",
      "  Obtaining dependency information for pydantic<3,>=1 from https://files.pythonhosted.org/packages/73/66/0a72c9fcde42e5650c8d8d5c5c1873b9a3893018020c77ca8eb62708b923/pydantic-2.4.2-py3-none-any.whl.metadata\n",
      "  Downloading pydantic-2.4.2-py3-none-any.whl.metadata (158 kB)\n",
      "\u001b[2K     \u001b[90m━━━━━━━━━━━━━━━━━━━━━━━━━━━━━━━━━━━━━━━\u001b[0m \u001b[32m158.6/158.6 kB\u001b[0m \u001b[31m3.1 MB/s\u001b[0m eta \u001b[36m0:00:00\u001b[0ma \u001b[36m0:00:01\u001b[0m\n",
      "\u001b[?25hRequirement already satisfied: requests<3,>=2 in /Users/reginachua/anaconda3/lib/python3.11/site-packages (from langchain) (2.31.0)\n",
      "Requirement already satisfied: tenacity<9.0.0,>=8.1.0 in /Users/reginachua/anaconda3/lib/python3.11/site-packages (from langchain) (8.2.2)\n",
      "Requirement already satisfied: attrs>=17.3.0 in /Users/reginachua/anaconda3/lib/python3.11/site-packages (from aiohttp<4.0.0,>=3.8.3->langchain) (22.1.0)\n",
      "Requirement already satisfied: charset-normalizer<3.0,>=2.0 in /Users/reginachua/anaconda3/lib/python3.11/site-packages (from aiohttp<4.0.0,>=3.8.3->langchain) (2.0.4)\n",
      "Requirement already satisfied: multidict<7.0,>=4.5 in /Users/reginachua/anaconda3/lib/python3.11/site-packages (from aiohttp<4.0.0,>=3.8.3->langchain) (6.0.2)\n",
      "Requirement already satisfied: async-timeout<5.0,>=4.0.0a3 in /Users/reginachua/anaconda3/lib/python3.11/site-packages (from aiohttp<4.0.0,>=3.8.3->langchain) (4.0.2)\n",
      "Requirement already satisfied: yarl<2.0,>=1.0 in /Users/reginachua/anaconda3/lib/python3.11/site-packages (from aiohttp<4.0.0,>=3.8.3->langchain) (1.8.1)\n",
      "Requirement already satisfied: frozenlist>=1.1.1 in /Users/reginachua/anaconda3/lib/python3.11/site-packages (from aiohttp<4.0.0,>=3.8.3->langchain) (1.3.3)\n",
      "Requirement already satisfied: aiosignal>=1.1.2 in /Users/reginachua/anaconda3/lib/python3.11/site-packages (from aiohttp<4.0.0,>=3.8.3->langchain) (1.2.0)\n",
      "Requirement already satisfied: idna>=2.8 in /Users/reginachua/anaconda3/lib/python3.11/site-packages (from anyio<4.0->langchain) (3.4)\n",
      "Requirement already satisfied: sniffio>=1.1 in /Users/reginachua/anaconda3/lib/python3.11/site-packages (from anyio<4.0->langchain) (1.2.0)\n",
      "Collecting marshmallow<4.0.0,>=3.18.0 (from dataclasses-json<0.7,>=0.5.7->langchain)\n",
      "  Obtaining dependency information for marshmallow<4.0.0,>=3.18.0 from https://files.pythonhosted.org/packages/ed/3c/cebfdcad015240014ff08b883d1c0c427f2ba45ae8c6572851b6ef136cad/marshmallow-3.20.1-py3-none-any.whl.metadata\n",
      "  Downloading marshmallow-3.20.1-py3-none-any.whl.metadata (7.8 kB)\n",
      "Collecting typing-inspect<1,>=0.4.0 (from dataclasses-json<0.7,>=0.5.7->langchain)\n",
      "  Obtaining dependency information for typing-inspect<1,>=0.4.0 from https://files.pythonhosted.org/packages/65/f3/107a22063bf27bdccf2024833d3445f4eea42b2e598abfbd46f6a63b6cb0/typing_inspect-0.9.0-py3-none-any.whl.metadata\n",
      "  Downloading typing_inspect-0.9.0-py3-none-any.whl.metadata (1.5 kB)\n",
      "Requirement already satisfied: jsonpointer>=1.9 in /Users/reginachua/anaconda3/lib/python3.11/site-packages (from jsonpatch<2.0,>=1.33->langchain) (2.1)\n",
      "Collecting annotated-types>=0.4.0 (from pydantic<3,>=1->langchain)\n",
      "  Obtaining dependency information for annotated-types>=0.4.0 from https://files.pythonhosted.org/packages/28/78/d31230046e58c207284c6b2c4e8d96e6d3cb4e52354721b944d3e1ee4aa5/annotated_types-0.6.0-py3-none-any.whl.metadata\n",
      "  Downloading annotated_types-0.6.0-py3-none-any.whl.metadata (12 kB)\n",
      "Collecting pydantic-core==2.10.1 (from pydantic<3,>=1->langchain)\n",
      "  Obtaining dependency information for pydantic-core==2.10.1 from https://files.pythonhosted.org/packages/8d/ab/baf66342f1d18228ed3e54a05308b967c3de3692517f3237c570447e6256/pydantic_core-2.10.1-cp311-cp311-macosx_11_0_arm64.whl.metadata\n",
      "  Downloading pydantic_core-2.10.1-cp311-cp311-macosx_11_0_arm64.whl.metadata (6.5 kB)\n",
      "Requirement already satisfied: typing-extensions>=4.6.1 in /Users/reginachua/anaconda3/lib/python3.11/site-packages (from pydantic<3,>=1->langchain) (4.7.1)\n",
      "Requirement already satisfied: urllib3<3,>=1.21.1 in /Users/reginachua/anaconda3/lib/python3.11/site-packages (from requests<3,>=2->langchain) (1.26.16)\n",
      "Requirement already satisfied: certifi>=2017.4.17 in /Users/reginachua/anaconda3/lib/python3.11/site-packages (from requests<3,>=2->langchain) (2023.7.22)\n",
      "Requirement already satisfied: packaging>=17.0 in /Users/reginachua/anaconda3/lib/python3.11/site-packages (from marshmallow<4.0.0,>=3.18.0->dataclasses-json<0.7,>=0.5.7->langchain) (23.0)\n",
      "Requirement already satisfied: mypy-extensions>=0.3.0 in /Users/reginachua/anaconda3/lib/python3.11/site-packages (from typing-inspect<1,>=0.4.0->dataclasses-json<0.7,>=0.5.7->langchain) (0.4.3)\n",
      "Downloading langchain-0.0.314-py3-none-any.whl (1.9 MB)\n",
      "\u001b[2K   \u001b[90m━━━━━━━━━━━━━━━━━━━━━━━━━━━━━━━━━━━━━━━━\u001b[0m \u001b[32m1.9/1.9 MB\u001b[0m \u001b[31m10.4 MB/s\u001b[0m eta \u001b[36m0:00:00\u001b[0m00:01\u001b[0m0:01\u001b[0mm\n",
      "\u001b[?25hDownloading dataclasses_json-0.6.1-py3-none-any.whl (27 kB)\n",
      "Downloading jsonpatch-1.33-py2.py3-none-any.whl (12 kB)\n",
      "Downloading langsmith-0.0.43-py3-none-any.whl (40 kB)\n",
      "\u001b[2K   \u001b[90m━━━━━━━━━━━━━━━━━━━━━━━━━━━━━━━━━━━━━━━━\u001b[0m \u001b[32m40.0/40.0 kB\u001b[0m \u001b[31m5.1 MB/s\u001b[0m eta \u001b[36m0:00:00\u001b[0m\n",
      "\u001b[?25hDownloading pydantic-2.4.2-py3-none-any.whl (395 kB)\n",
      "\u001b[2K   \u001b[90m━━━━━━━━━━━━━━━━━━━━━━━━━━━━━━━━━━━━━━━━\u001b[0m \u001b[32m395.8/395.8 kB\u001b[0m \u001b[31m27.2 MB/s\u001b[0m eta \u001b[36m0:00:00\u001b[0m\n",
      "\u001b[?25hDownloading pydantic_core-2.10.1-cp311-cp311-macosx_11_0_arm64.whl (1.7 MB)\n",
      "\u001b[2K   \u001b[90m━━━━━━━━━━━━━━━━━━━━━━━━━━━━━━━━━━━━━━━━\u001b[0m \u001b[32m1.7/1.7 MB\u001b[0m \u001b[31m32.9 MB/s\u001b[0m eta \u001b[36m0:00:00\u001b[0ma \u001b[36m0:00:01\u001b[0m\n",
      "\u001b[?25hDownloading annotated_types-0.6.0-py3-none-any.whl (12 kB)\n",
      "Downloading marshmallow-3.20.1-py3-none-any.whl (49 kB)\n",
      "\u001b[2K   \u001b[90m━━━━━━━━━━━━━━━━━━━━━━━━━━━━━━━━━━━━━━━━\u001b[0m \u001b[32m49.4/49.4 kB\u001b[0m \u001b[31m6.6 MB/s\u001b[0m eta \u001b[36m0:00:00\u001b[0m\n",
      "\u001b[?25hDownloading typing_inspect-0.9.0-py3-none-any.whl (8.8 kB)\n",
      "Installing collected packages: typing-inspect, pydantic-core, marshmallow, jsonpatch, annotated-types, pydantic, dataclasses-json, langsmith, langchain\n",
      "  Attempting uninstall: jsonpatch\n",
      "    Found existing installation: jsonpatch 1.32\n",
      "    Uninstalling jsonpatch-1.32:\n",
      "      Successfully uninstalled jsonpatch-1.32\n",
      "Successfully installed annotated-types-0.6.0 dataclasses-json-0.6.1 jsonpatch-1.33 langchain-0.0.314 langsmith-0.0.43 marshmallow-3.20.1 pydantic-2.4.2 pydantic-core-2.10.1 typing-inspect-0.9.0\n"
     ]
    }
   ],
   "source": [
    "# !pip install pypdf\n",
    "!pip install langchain \n"
   ]
  },
  {
   "cell_type": "code",
   "execution_count": 4,
   "metadata": {},
   "outputs": [],
   "source": [
    "from langchain.document_loaders import PyPDFLoader\n",
    "\n",
    "loader = PyPDFLoader(\"ubuntu-server-guide-2023-10-15.pdf\")\n",
    "pages = loader.load_and_split()"
   ]
  },
  {
   "cell_type": "code",
   "execution_count": 10,
   "metadata": {},
   "outputs": [],
   "source": [
    "# pages[0].page_content\n",
    "\n",
    "\n",
    "for i in range(5):\n",
    "    text_file = open(\"page_\"+ str(i) + \".txt\", \"w\")\n",
    "    n = text_file.write(pages[i].page_content)\n",
    "    text_file.close()"
   ]
  },
  {
   "cell_type": "code",
   "execution_count": 20,
   "metadata": {},
   "outputs": [],
   "source": [
    "with open('page_0.txt') as f:\n",
    "    info = f.read()"
   ]
  },
  {
   "cell_type": "code",
   "execution_count": 21,
   "metadata": {},
   "outputs": [],
   "source": [
    "from langchain.text_splitter import RecursiveCharacterTextSplitter\n",
    "text_splitter = RecursiveCharacterTextSplitter(\n",
    "    # Set a really small chunk size, just to show.\n",
    "    chunk_size = 100,\n",
    "    chunk_overlap  = 20,\n",
    "    length_function = len,\n",
    "    add_start_index = True,\n",
    ")"
   ]
  },
  {
   "cell_type": "code",
   "execution_count": 22,
   "metadata": {},
   "outputs": [
    {
     "name": "stdout",
     "output_type": "stream",
     "text": [
      "page_content='Ubuntu Server is a version of the Ubuntu operating system designed and engineered as a backbone for' metadata={'start_index': 0}\n",
      "page_content='as a backbone for the internet.' metadata={'start_index': 82}\n"
     ]
    }
   ],
   "source": [
    "texts = text_splitter.create_documents([info])\n",
    "print(texts[0])\n",
    "print(texts[1])"
   ]
  },
  {
   "cell_type": "code",
   "execution_count": 12,
   "metadata": {},
   "outputs": [
    {
     "name": "stdout",
     "output_type": "stream",
     "text": [
      "Collecting sentence_transformers\n",
      "  Using cached sentence-transformers-2.2.2.tar.gz (85 kB)\n",
      "  Preparing metadata (setup.py) ... \u001b[?25ldone\n",
      "\u001b[?25hRequirement already satisfied: transformers<5.0.0,>=4.6.0 in /Users/reginachua/anaconda3/lib/python3.11/site-packages (from sentence_transformers) (4.29.2)\n",
      "Requirement already satisfied: tqdm in /Users/reginachua/anaconda3/lib/python3.11/site-packages (from sentence_transformers) (4.65.0)\n",
      "Requirement already satisfied: torch>=1.6.0 in /Users/reginachua/anaconda3/lib/python3.11/site-packages (from sentence_transformers) (2.0.1)\n",
      "Collecting torchvision (from sentence_transformers)\n",
      "  Obtaining dependency information for torchvision from https://files.pythonhosted.org/packages/dd/48/85ef87f1548620d7c3743cbe135b90d8cf673fc7b8594361917558d765b6/torchvision-0.16.0-cp311-cp311-macosx_11_0_arm64.whl.metadata\n",
      "  Downloading torchvision-0.16.0-cp311-cp311-macosx_11_0_arm64.whl.metadata (6.6 kB)\n",
      "Requirement already satisfied: numpy in /Users/reginachua/anaconda3/lib/python3.11/site-packages (from sentence_transformers) (1.24.3)\n",
      "Requirement already satisfied: scikit-learn in /Users/reginachua/anaconda3/lib/python3.11/site-packages (from sentence_transformers) (1.3.0)\n",
      "Requirement already satisfied: scipy in /Users/reginachua/anaconda3/lib/python3.11/site-packages (from sentence_transformers) (1.10.1)\n",
      "Requirement already satisfied: nltk in /Users/reginachua/anaconda3/lib/python3.11/site-packages (from sentence_transformers) (3.8.1)\n",
      "Collecting sentencepiece (from sentence_transformers)\n",
      "  Downloading sentencepiece-0.1.99-cp311-cp311-macosx_11_0_arm64.whl (1.2 MB)\n",
      "\u001b[2K     \u001b[90m━━━━━━━━━━━━━━━━━━━━━━━━━━━━━━━━━━━━━━━━\u001b[0m \u001b[32m1.2/1.2 MB\u001b[0m \u001b[31m4.7 MB/s\u001b[0m eta \u001b[36m0:00:00\u001b[0ma \u001b[36m0:00:01\u001b[0m\n",
      "\u001b[?25hRequirement already satisfied: huggingface-hub>=0.4.0 in /Users/reginachua/anaconda3/lib/python3.11/site-packages (from sentence_transformers) (0.15.1)\n",
      "Requirement already satisfied: filelock in /Users/reginachua/anaconda3/lib/python3.11/site-packages (from huggingface-hub>=0.4.0->sentence_transformers) (3.9.0)\n",
      "Requirement already satisfied: fsspec in /Users/reginachua/anaconda3/lib/python3.11/site-packages (from huggingface-hub>=0.4.0->sentence_transformers) (2023.4.0)\n",
      "Requirement already satisfied: requests in /Users/reginachua/anaconda3/lib/python3.11/site-packages (from huggingface-hub>=0.4.0->sentence_transformers) (2.31.0)\n",
      "Requirement already satisfied: pyyaml>=5.1 in /Users/reginachua/anaconda3/lib/python3.11/site-packages (from huggingface-hub>=0.4.0->sentence_transformers) (6.0)\n",
      "Requirement already satisfied: typing-extensions>=3.7.4.3 in /Users/reginachua/anaconda3/lib/python3.11/site-packages (from huggingface-hub>=0.4.0->sentence_transformers) (4.7.1)\n",
      "Requirement already satisfied: packaging>=20.9 in /Users/reginachua/anaconda3/lib/python3.11/site-packages (from huggingface-hub>=0.4.0->sentence_transformers) (23.0)\n",
      "Requirement already satisfied: sympy in /Users/reginachua/anaconda3/lib/python3.11/site-packages (from torch>=1.6.0->sentence_transformers) (1.11.1)\n",
      "Requirement already satisfied: networkx in /Users/reginachua/anaconda3/lib/python3.11/site-packages (from torch>=1.6.0->sentence_transformers) (3.1)\n",
      "Requirement already satisfied: jinja2 in /Users/reginachua/anaconda3/lib/python3.11/site-packages (from torch>=1.6.0->sentence_transformers) (3.1.2)\n",
      "Requirement already satisfied: regex!=2019.12.17 in /Users/reginachua/anaconda3/lib/python3.11/site-packages (from transformers<5.0.0,>=4.6.0->sentence_transformers) (2022.7.9)\n",
      "Requirement already satisfied: tokenizers!=0.11.3,<0.14,>=0.11.1 in /Users/reginachua/anaconda3/lib/python3.11/site-packages (from transformers<5.0.0,>=4.6.0->sentence_transformers) (0.13.2)\n",
      "Requirement already satisfied: click in /Users/reginachua/anaconda3/lib/python3.11/site-packages (from nltk->sentence_transformers) (8.0.4)\n",
      "Requirement already satisfied: joblib in /Users/reginachua/anaconda3/lib/python3.11/site-packages (from nltk->sentence_transformers) (1.2.0)\n",
      "Requirement already satisfied: threadpoolctl>=2.0.0 in /Users/reginachua/anaconda3/lib/python3.11/site-packages (from scikit-learn->sentence_transformers) (2.2.0)\n",
      "Collecting torch>=1.6.0 (from sentence_transformers)\n",
      "  Obtaining dependency information for torch>=1.6.0 from https://files.pythonhosted.org/packages/7b/7c/4d8728e6f8dbe2b8af054bd92c290d94c633270443514e3ee4b768125cf9/torch-2.1.0-cp311-none-macosx_11_0_arm64.whl.metadata\n",
      "  Downloading torch-2.1.0-cp311-none-macosx_11_0_arm64.whl.metadata (24 kB)\n",
      "Requirement already satisfied: pillow!=8.3.*,>=5.3.0 in /Users/reginachua/anaconda3/lib/python3.11/site-packages (from torchvision->sentence_transformers) (9.4.0)\n",
      "Requirement already satisfied: MarkupSafe>=2.0 in /Users/reginachua/anaconda3/lib/python3.11/site-packages (from jinja2->torch>=1.6.0->sentence_transformers) (2.1.1)\n",
      "Requirement already satisfied: charset-normalizer<4,>=2 in /Users/reginachua/anaconda3/lib/python3.11/site-packages (from requests->huggingface-hub>=0.4.0->sentence_transformers) (2.0.4)\n",
      "Requirement already satisfied: idna<4,>=2.5 in /Users/reginachua/anaconda3/lib/python3.11/site-packages (from requests->huggingface-hub>=0.4.0->sentence_transformers) (3.4)\n",
      "Requirement already satisfied: urllib3<3,>=1.21.1 in /Users/reginachua/anaconda3/lib/python3.11/site-packages (from requests->huggingface-hub>=0.4.0->sentence_transformers) (1.26.16)\n",
      "Requirement already satisfied: certifi>=2017.4.17 in /Users/reginachua/anaconda3/lib/python3.11/site-packages (from requests->huggingface-hub>=0.4.0->sentence_transformers) (2023.7.22)\n",
      "Requirement already satisfied: mpmath>=0.19 in /Users/reginachua/anaconda3/lib/python3.11/site-packages (from sympy->torch>=1.6.0->sentence_transformers) (1.3.0)\n",
      "Downloading torchvision-0.16.0-cp311-cp311-macosx_11_0_arm64.whl (1.6 MB)\n",
      "\u001b[2K   \u001b[90m━━━━━━━━━━━━━━━━━━━━━━━━━━━━━━━━━━━━━━━━\u001b[0m \u001b[32m1.6/1.6 MB\u001b[0m \u001b[31m17.8 MB/s\u001b[0m eta \u001b[36m0:00:00\u001b[0ma \u001b[36m0:00:01\u001b[0m\n",
      "\u001b[?25hDownloading torch-2.1.0-cp311-none-macosx_11_0_arm64.whl (59.6 MB)\n",
      "\u001b[2K   \u001b[90m━━━━━━━━━━━━━━━━━━━━━━━━━━━━━━━━━━━━━━━━\u001b[0m \u001b[32m59.6/59.6 MB\u001b[0m \u001b[31m48.5 MB/s\u001b[0m eta \u001b[36m0:00:00\u001b[0m00:01\u001b[0m00:01\u001b[0m\n",
      "\u001b[?25hBuilding wheels for collected packages: sentence_transformers\n",
      "  Building wheel for sentence_transformers (setup.py) ... \u001b[?25ldone\n",
      "\u001b[?25h  Created wheel for sentence_transformers: filename=sentence_transformers-2.2.2-py3-none-any.whl size=125925 sha256=a48f237d723befcc6d3987b3b916a1bca51eea4d092b947520113b81ac1135cb\n",
      "  Stored in directory: /Users/reginachua/Library/Caches/pip/wheels/ff/27/bf/ffba8b318b02d7f691a57084ee154e26ed24d012b0c7805881\n",
      "Successfully built sentence_transformers\n",
      "Installing collected packages: sentencepiece, torch, torchvision, sentence_transformers\n",
      "  Attempting uninstall: torch\n",
      "    Found existing installation: torch 2.0.1\n",
      "    Uninstalling torch-2.0.1:\n",
      "      Successfully uninstalled torch-2.0.1\n",
      "\u001b[31mERROR: pip's dependency resolver does not currently take into account all the packages that are installed. This behaviour is the source of the following dependency conflicts.\n",
      "torchdata 0.6.1 requires torch==2.0.1, but you have torch 2.1.0 which is incompatible.\n",
      "torchtext 0.15.2 requires torch==2.0.1, but you have torch 2.1.0 which is incompatible.\u001b[0m\u001b[31m\n",
      "\u001b[0mSuccessfully installed sentence_transformers-2.2.2 sentencepiece-0.1.99 torch-2.1.0 torchvision-0.16.0\n"
     ]
    }
   ],
   "source": [
    "!pip install sentence_transformers"
   ]
  },
  {
   "cell_type": "code",
   "execution_count": 13,
   "metadata": {},
   "outputs": [
    {
     "data": {
      "application/vnd.jupyter.widget-view+json": {
       "model_id": "114e8970044d475aaaad272f15d9b498",
       "version_major": 2,
       "version_minor": 0
      },
      "text/plain": [
       "Downloading (…)421f3/.gitattributes:   0%|          | 0.00/1.52k [00:00<?, ?B/s]"
      ]
     },
     "metadata": {},
     "output_type": "display_data"
    },
    {
     "data": {
      "application/vnd.jupyter.widget-view+json": {
       "model_id": "365a3ab16b514e9e9706e216d51e546f",
       "version_major": 2,
       "version_minor": 0
      },
      "text/plain": [
       "Downloading (…)_Pooling/config.json:   0%|          | 0.00/190 [00:00<?, ?B/s]"
      ]
     },
     "metadata": {},
     "output_type": "display_data"
    },
    {
     "data": {
      "application/vnd.jupyter.widget-view+json": {
       "model_id": "00415d66f61849158b57a893046385ef",
       "version_major": 2,
       "version_minor": 0
      },
      "text/plain": [
       "Downloading (…)93c10421f3/README.md:   0%|          | 0.00/90.2k [00:00<?, ?B/s]"
      ]
     },
     "metadata": {},
     "output_type": "display_data"
    },
    {
     "data": {
      "application/vnd.jupyter.widget-view+json": {
       "model_id": "c115749981a1495dab6035a90c48bada",
       "version_major": 2,
       "version_minor": 0
      },
      "text/plain": [
       "Downloading (…)c10421f3/config.json:   0%|          | 0.00/684 [00:00<?, ?B/s]"
      ]
     },
     "metadata": {},
     "output_type": "display_data"
    },
    {
     "data": {
      "application/vnd.jupyter.widget-view+json": {
       "model_id": "c10e0494722044c8bdfa3834d3f0f27a",
       "version_major": 2,
       "version_minor": 0
      },
      "text/plain": [
       "Downloading (…)ce_transformers.json:   0%|          | 0.00/124 [00:00<?, ?B/s]"
      ]
     },
     "metadata": {},
     "output_type": "display_data"
    },
    {
     "data": {
      "application/vnd.jupyter.widget-view+json": {
       "model_id": "aae49ca62e934f49808db5186fee8cff",
       "version_major": 2,
       "version_minor": 0
      },
      "text/plain": [
       "Downloading model.safetensors:   0%|          | 0.00/133M [00:00<?, ?B/s]"
      ]
     },
     "metadata": {},
     "output_type": "display_data"
    },
    {
     "data": {
      "application/vnd.jupyter.widget-view+json": {
       "model_id": "a2951ad89c0448a49d27719960ad17f7",
       "version_major": 2,
       "version_minor": 0
      },
      "text/plain": [
       "Downloading pytorch_model.bin:   0%|          | 0.00/134M [00:00<?, ?B/s]"
      ]
     },
     "metadata": {},
     "output_type": "display_data"
    },
    {
     "data": {
      "application/vnd.jupyter.widget-view+json": {
       "model_id": "afd2affc1230466fab7f1d3ed6d5f8a3",
       "version_major": 2,
       "version_minor": 0
      },
      "text/plain": [
       "Downloading (…)nce_bert_config.json:   0%|          | 0.00/52.0 [00:00<?, ?B/s]"
      ]
     },
     "metadata": {},
     "output_type": "display_data"
    },
    {
     "data": {
      "application/vnd.jupyter.widget-view+json": {
       "model_id": "b6f4a621e0d84b3ba5ad35f3efcf383f",
       "version_major": 2,
       "version_minor": 0
      },
      "text/plain": [
       "Downloading (…)cial_tokens_map.json:   0%|          | 0.00/125 [00:00<?, ?B/s]"
      ]
     },
     "metadata": {},
     "output_type": "display_data"
    },
    {
     "data": {
      "application/vnd.jupyter.widget-view+json": {
       "model_id": "8c38d398b9ff4d3182e291f90043ddd5",
       "version_major": 2,
       "version_minor": 0
      },
      "text/plain": [
       "Downloading (…)421f3/tokenizer.json:   0%|          | 0.00/711k [00:00<?, ?B/s]"
      ]
     },
     "metadata": {},
     "output_type": "display_data"
    },
    {
     "data": {
      "application/vnd.jupyter.widget-view+json": {
       "model_id": "57b105db13ea458eb4ff03e05246a659",
       "version_major": 2,
       "version_minor": 0
      },
      "text/plain": [
       "Downloading (…)okenizer_config.json:   0%|          | 0.00/366 [00:00<?, ?B/s]"
      ]
     },
     "metadata": {},
     "output_type": "display_data"
    },
    {
     "data": {
      "application/vnd.jupyter.widget-view+json": {
       "model_id": "faf31f5dedf34501a20a3ddac75c13fd",
       "version_major": 2,
       "version_minor": 0
      },
      "text/plain": [
       "Downloading (…)93c10421f3/vocab.txt:   0%|          | 0.00/232k [00:00<?, ?B/s]"
      ]
     },
     "metadata": {},
     "output_type": "display_data"
    },
    {
     "data": {
      "application/vnd.jupyter.widget-view+json": {
       "model_id": "134f6056e1a642ec8e25621477ddc8af",
       "version_major": 2,
       "version_minor": 0
      },
      "text/plain": [
       "Downloading (…)10421f3/modules.json:   0%|          | 0.00/349 [00:00<?, ?B/s]"
      ]
     },
     "metadata": {},
     "output_type": "display_data"
    }
   ],
   "source": [
    "from langchain.embeddings import HuggingFaceBgeEmbeddings\n",
    "\n",
    "model_name = \"BAAI/bge-small-en\"\n",
    "model_kwargs = {'device': 'cpu'}\n",
    "encode_kwargs = {'normalize_embeddings': False}\n",
    "hf = HuggingFaceBgeEmbeddings(\n",
    "    model_name=model_name,\n",
    "    model_kwargs=model_kwargs,\n",
    "    encode_kwargs=encode_kwargs\n",
    ")"
   ]
  },
  {
   "cell_type": "markdown",
   "metadata": {},
   "source": [
    "https://python.langchain.com/docs/integrations/text_embedding/bge_huggingface"
   ]
  },
  {
   "cell_type": "code",
   "execution_count": 26,
   "metadata": {},
   "outputs": [
    {
     "name": "stdout",
     "output_type": "stream",
     "text": [
      "99\n",
      "[-0.036702245473861694, -0.0441846139729023, 0.013882681727409363, -0.03760372847318649, 0.019095277413725853, -0.020245907828211784, -0.021463505923748016, 0.023189695551991463, 0.014166874811053276, 0.005399393383413553, 0.012563353404402733, -0.02834615297615528, 0.03799339756369591, -0.03237975016236305, 0.030889496207237244, -0.01609555259346962, -0.011234925128519535, -0.002906481735408306, 0.02990245632827282, 0.040444131940603256, 0.00455285981297493, -0.01778658851981163, -0.0360213965177536, -0.058104999363422394, 0.0017896568169817328, 0.033043354749679565, -0.0029896898195147514, 0.026056936010718346, -0.008745853789150715, -0.18451371788978577, 0.017636410892009735, -0.03860119357705116, 0.001743260771036148, -0.020032484084367752, -0.0011026612482964993, -0.01952185109257698, 0.04664074629545212, -0.047900862991809845, -0.020758600905537605, 0.019713036715984344, -0.0032168375328183174, 0.016071682795882225, -0.01340400893241167, -0.01772184483706951, -0.016147300601005554, -0.042977429926395416, -0.021099964156746864, -0.020458446815609932, -0.02884739823639393, -0.005831060465425253, 0.036423347890377045, 0.0073724486865103245, 0.01377744972705841, 0.029192067682743073, -0.024404529482126236, 0.0010995910270139575, 0.05015937238931656, 0.06495552510023117, 0.00019934987358283252, 0.017896726727485657, 0.05020449683070183, -0.040161509066820145, -0.1770930290222168, 0.02689005248248577, 0.03260372579097748, 0.03281552717089653, 0.011261459439992905, -0.038772933185100555, 0.01215636171400547, 0.03185589239001274, -0.04287707433104515, 0.03162187337875366, 0.0039430526085197926, 0.044486891478300095, -0.0008174482500180602, -0.010072244331240654, 0.0057371011935174465, -0.005658693145960569, 0.037563830614089966, 0.056044548749923706, 0.011369146406650543, -0.03114917501807213, -0.032586708664894104, 0.027664700523018837, -0.07305340468883514, -0.028719834983348846, -0.014652803540229797, 0.01945994235575199, 0.02383377030491829, 0.04165085032582283, -0.059784721583127975, -0.019051367416977882, 0.016337206587195396, 0.013041440397500992, -0.034119296818971634, 0.021781962364912033, -0.024058964103460312, 0.006609715521335602, -0.014888232573866844, 0.6131927967071533, -0.04582807421684265, 0.0020768065005540848, 0.030986016616225243, -0.01514367200434208, 0.03859889879822731, -0.00362025061622262, -0.000834090868011117, 0.019192250445485115, -0.06295105814933777, 0.032597146928310394, -0.0012509154621511698, -0.011072604916989803, 0.04861786961555481, 0.002377718221396208, 0.00532992510125041, -0.03951510787010193, -0.038520798087120056, 0.01524494867771864, 0.023161016404628754, 0.004937127232551575, -0.04665708541870117, -0.003981190267950296, 0.02044852077960968, -0.037748321890830994, 0.0335761122405529, -0.049067720770835876, 0.03494666889309883, 0.01824345998466015, 0.026461409404873848, 0.045507557690143585, 0.02499569021165371, -0.027326378971338272, 0.0042296820320189, -2.7713478630175814e-05, 0.008478103205561638, 0.02840949408710003, 0.006085219793021679, -0.01299303863197565, -0.01688927784562111, 0.003992678131908178, -0.02786598727107048, -0.029810545966029167, 0.0065612830221652985, -0.05701092258095741, -0.038599129766225815, 0.04624788090586662, 0.030446907505393028, 0.04713254049420357, -0.012902570888400078, 0.060885313898324966, -0.016161993145942688, 0.016915597021579742, -0.014846411533653736, -0.007822662591934204, -0.04299894720315933, 0.06447291374206543, 0.018883872777223587, -0.007524335291236639, -0.04057064652442932, -0.04211215674877167, -0.021516254171729088, -0.00250202021561563, -0.03564515337347984, 0.014332545921206474, 0.025966567918658257, -0.09261006116867065, -0.0023779980838298798, 0.048051394522190094, 0.043959472328424454, -0.023041529580950737, -0.016157038509845734, 0.0020404665265232325, -0.005980370566248894, -0.05240374431014061, 0.037409115582704544, 0.01266876794397831, 0.01429045107215643, -0.0067907581105828285, -0.016274308785796165, -0.017098983749747276, 0.042400944977998734, -0.004263286013156176, -0.037770550698041916, -0.011487746611237526, -0.0014412886230275035, -0.02609671652317047, -0.015410706400871277, 0.020481759682297707, 0.011107800528407097, -0.011270260438323021, -0.059622544795274734, 0.04939236491918564, -0.03736772760748863, -0.004478816874325275, 0.006157951429486275, -0.002065393840894103, -0.01562652178108692, 0.0016093577723950148, 0.0055472650565207005, -0.012238966301083565, 0.04444113001227379, 0.05785812437534332, -0.031238604336977005, -0.02734294906258583, -0.011096756905317307, 0.010755950585007668, -0.008959231898188591, 0.04923544451594353, -0.05382658168673515, 0.0028125212993472815, -0.06253892183303833, 0.023132484406232834, -0.008894016966223717, 0.05926872789859772, -0.04369615763425827, -0.0421580970287323, -0.030727146193385124, 0.016549186781048775, 0.01831287145614624, 0.02274993248283863, 0.03261621296405792, -0.013658479787409306, -0.04681039974093437, -0.21885176002979279, -0.015421587973833084, -0.007291492540389299, -0.034082282334566116, 0.0510694719851017, 0.05053416267037392, 0.0034524521324783564, 0.002977252472192049, 0.005873500369489193, 0.0033552520908415318, 0.08244126290082932, -0.013133732602000237, 0.005679698195308447, -0.0008394611068069935, -0.0327405147254467, 0.02447453886270523, 0.05601727217435837, -0.030581705272197723, -0.07034053653478622, -0.03428846597671509, 0.000688510830514133, -0.019147301092743874, -0.01588764227926731, -0.0297811571508646, 0.056334491819143295, -0.007598979864269495, 0.13142076134681702, -0.014675430953502655, 0.08285713195800781, 0.004670187830924988, 0.0069028111174702644, 0.02362605556845665, 0.035665083676576614, -0.11284826695919037, -0.011585126630961895, 0.0479888953268528, 0.025792445987462997, -0.029602818191051483, -0.036492373794317245, 0.015863411128520966, -0.054739125072956085, 0.021167149767279625, -0.012596365064382553, -0.06853858381509781, -0.024961410090327263, -0.02219613455235958, 0.022676341235637665, -0.021384980529546738, -0.04342547804117203, -0.0032277083955705166, 0.001903555472381413, -0.011281496845185757, -0.020808951929211617, 0.037342846393585205, -0.005943450145423412, -0.0028431983664631844, -0.05526840686798096, -0.012526233680546284, 0.022621219977736473, 0.0015164422802627087, 0.025189189240336418, -0.04443961754441261, -0.0466926246881485, -0.027787456288933754, 0.04511592164635658, -0.015545183792710304, 0.021696429699659348, 0.010312458500266075, 0.05632268264889717, -0.05111927166581154, -0.03617066144943237, 0.0604374073445797, -0.044693730771541595, 0.0028300757985562086, 0.01995520107448101, -0.009928599931299686, 0.04726336896419525, -0.019253017380833626, -0.017974261194467545, 0.030613776296377182, 0.02070930413901806, -0.02905282936990261, 0.021671772003173828, -0.014575585722923279, 0.0586128793656826, 0.010952120646834373, 0.03795896843075752, 0.005093895364552736, 0.006867257412523031, 0.0014039120869711041, -0.018841490149497986, -0.04522207751870155, -0.03964691236615181, -0.062291041016578674, 0.02612413465976715, 0.014048505574464798, -0.2715195417404175, 0.023428525775671005, 0.01940375380218029, 0.02185634896159172, 0.01416652649641037, -0.013577588833868504, -0.04145113378763199, 0.051244985312223434, -0.05132325366139412, 0.016237152740359306, 0.03872019425034523, -0.006316849030554295, -0.018829265609383583, 0.006256961263716221, -0.001261341036297381, 0.053843822330236435, 0.06946372985839844, -0.023616906255483627, 0.06301338970661163, -0.05690840259194374, 0.011052358895540237, -0.01663931831717491, 0.14807622134685516, -0.06137362867593765, 0.03557148575782776, -0.02092401683330536, -0.018628299236297607, 0.03104907087981701, -0.03978460282087326, 0.031092315912246704, 0.001303299330174923, 0.0015248310519382358, 0.041663702577352524, -0.04052841290831566, -0.02688898704946041, 0.048119816929101944, 0.012004295364022255, 0.03996240347623825, 0.02953868918120861, 0.02465246245265007, -0.04352577403187752, 0.03247428312897682, -0.007526240777224302, 0.0476851612329483, 0.07386353611946106, -0.03138023614883423, -0.018574921414256096, -0.042764995247125626, 0.048559173941612244, 0.017349103465676308, 0.012186906300485134, 0.019901784136891365, -0.029056424275040627, -4.241389979142696e-05, 0.05341097712516785, 0.0048408652655780315, -0.02515316568315029, -0.01655407063663006, -0.0349261611700058, 0.004977928474545479, 0.03721465542912483, -0.007036902010440826, 0.03053448721766472, 0.07825040817260742, 0.010374161414802074]\n"
     ]
    }
   ],
   "source": [
    "embedding = hf.embed_query(texts[0].page_content)\n",
    "print(len(texts[0].page_content))\n",
    "len(embedding)\n",
    "print(embedding)"
   ]
  }
 ],
 "metadata": {
  "kernelspec": {
   "display_name": "Python 3",
   "language": "python",
   "name": "python3"
  },
  "language_info": {
   "codemirror_mode": {
    "name": "ipython",
    "version": 3
   },
   "file_extension": ".py",
   "mimetype": "text/x-python",
   "name": "python",
   "nbconvert_exporter": "python",
   "pygments_lexer": "ipython3",
   "version": "3.11.4"
  },
  "orig_nbformat": 4
 },
 "nbformat": 4,
 "nbformat_minor": 2
}
