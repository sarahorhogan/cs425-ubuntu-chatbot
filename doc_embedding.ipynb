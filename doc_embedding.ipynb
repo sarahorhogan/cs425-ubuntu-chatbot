{
  "nbformat": 4,
  "nbformat_minor": 0,
  "metadata": {
    "colab": {
      "provenance": [],
      "gpuType": "T4"
    },
    "kernelspec": {
      "name": "python3",
      "display_name": "Python 3"
    },
    "language_info": {
      "name": "python"
    },
    "accelerator": "GPU"
  },
  "cells": [
    {
      "cell_type": "code",
      "source": [
        "!pip install pypdf\n",
        "!pip install sentence_transformers\n",
        "!pip install pinecone-client\n",
        "!pip install transformers\n",
        "!pip install langchain"
      ],
      "metadata": {
        "id": "qzYkeZdmHRd8"
      },
      "execution_count": null,
      "outputs": []
    },
    {
      "cell_type": "code",
      "source": [
        "from google.colab import drive\n",
        "\n",
        "drive.mount('/content/drive')"
      ],
      "metadata": {
        "id": "521SAT1nHWue"
      },
      "execution_count": null,
      "outputs": []
    },
    {
      "cell_type": "code",
      "source": [
        "import pinecone\n",
        "\n",
        "pinecone.init(api_key=\"c72b02c0-62fa-4ee2-aa36-6c2384fed7e1\", environment=\"gcp-starter\")\n",
        "pinecone.list_indexes()\n",
        "index = pinecone.Index(\"ubuntu-ir-jina\")"
      ],
      "metadata": {
        "id": "XZ_wfLS2hkTp"
      },
      "execution_count": null,
      "outputs": []
    },
    {
      "cell_type": "code",
      "source": [
        "from langchain.document_loaders import PyPDFLoader\n",
        "\n",
        "loader = PyPDFLoader(\"/content/drive/My Drive/ubuntu-server-guide-2023-10-15.pdf\")\n",
        "pages = loader.load_and_split()"
      ],
      "metadata": {
        "id": "-8p27CwLGvH2"
      },
      "execution_count": 4,
      "outputs": []
    },
    {
      "cell_type": "code",
      "source": [
        "from transformers import AutoModel\n",
        "from numpy.linalg import norm\n",
        "\n",
        "cos_sim = lambda a,b: (a @ b.T) / (norm(a)*norm(b))\n",
        "model = AutoModel.from_pretrained('jinaai/jina-embeddings-v2-base-en', trust_remote_code=True) # trust_remote_code is needed to use the encode method\n",
        "#embeddings = model.encode(['How is the weather today?', 'What is the current weather like today?'])\n"
      ],
      "metadata": {
        "id": "oS_j1_ZsHfbM"
      },
      "execution_count": null,
      "outputs": []
    },
    {
      "cell_type": "code",
      "source": [
        "from langchain.text_splitter import RecursiveCharacterTextSplitter\n",
        "text_splitter = RecursiveCharacterTextSplitter(\n",
        "    # Set a really small chunk size, just to show.\n",
        "    chunk_size = 8000,\n",
        "    chunk_overlap  = 1000,\n",
        "    length_function = len,\n",
        "    add_start_index = True,\n",
        ")"
      ],
      "metadata": {
        "id": "2mUgqTc3EjPz"
      },
      "execution_count": 7,
      "outputs": []
    },
    {
      "cell_type": "code",
      "source": [
        "counter = 0\n",
        "for i in range(len(pages)):\n",
        "    text_file = open(\"page_\"+ str(i) + \".txt\", \"w\")\n",
        "    n = text_file.write(pages[i].page_content)\n",
        "    text_file.close()\n",
        "    with open(\"page_\"+ str(i) + \".txt\") as f:\n",
        "      info = f.read()\n",
        "    texts = text_splitter.create_documents([info])\n",
        "    for j in texts:\n",
        "      embedding = model.encode([j.page_content])\n",
        "      index.upsert([(str(counter),embedding[0].tolist(),{\"text\":j.page_content})])\n",
        "      print(f'Embedding count: {counter}')\n",
        "      counter += 1\n",
        "print(f'Total number of embeddings: {counter}')"
      ],
      "metadata": {
        "id": "24C7sDGLH0Ic"
      },
      "execution_count": null,
      "outputs": []
    },
    {
      "cell_type": "code",
      "source": [
        "# Query\n",
        "query = \"How do i ssh into an external server?\"\n",
        "\n",
        "embedding = model.encode([query]).tolist()\n",
        "\n",
        "index.query(\n",
        "  vector=embedding,\n",
        "  top_k=15,\n",
        "  include_metadata=True\n",
        ")"
      ],
      "metadata": {
        "id": "DdUilFVbr-1w"
      },
      "execution_count": null,
      "outputs": []
    }
  ]
}