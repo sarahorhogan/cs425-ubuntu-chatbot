{
 "cells": [
  {
   "cell_type": "code",
   "execution_count": 1,
   "id": "fcdb2de2-b96a-4f93-88e5-d7dce2c4b509",
   "metadata": {},
   "outputs": [
    {
     "data": {
      "application/vnd.jupyter.widget-view+json": {
       "model_id": "91d884578ac849508d8df734a4ab40e8",
       "version_major": 2,
       "version_minor": 0
      },
      "text/plain": [
       "Loading checkpoint shards:   0%|          | 0/3 [00:00<?, ?it/s]"
      ]
     },
     "metadata": {},
     "output_type": "display_data"
    },
    {
     "data": {
      "application/vnd.jupyter.widget-view+json": {
       "model_id": "47a8ba2b776c4682be719066aa4cd946",
       "version_major": 2,
       "version_minor": 0
      },
      "text/plain": [
       "Downloading (…)neration_config.json:   0%|          | 0.00/183 [00:00<?, ?B/s]"
      ]
     },
     "metadata": {},
     "output_type": "display_data"
    }
   ],
   "source": [
    "# Load model directly\n",
    "from transformers import AutoTokenizer, AutoModelForCausalLM\n",
    "\n",
    "tokenizer = AutoTokenizer.from_pretrained(\"Arcpolar/Ubuntu_Llama_Chat_7B\")\n",
    "model = AutoModelForCausalLM.from_pretrained(\"Arcpolar/Ubuntu_Llama_Chat_7B\", low_cpu_mem_usage=True)"
   ]
  },
  {
   "cell_type": "code",
   "execution_count": 8,
   "id": "ebd71334-dc3c-49b5-b7db-7e5f1cd3aae8",
   "metadata": {},
   "outputs": [
    {
     "name": "stdout",
     "output_type": "stream",
     "text": [
      "<s> How do i get a list of all installed packages? [Re: #622649]  You can get a list of all installed packages in Ubuntu by running the command 'sudo apt-cache policy all' in the terminal. (all refers to all packages, not just those in the 'all' repository). This will show you a list of all packages on your system along with their version, architecture, and source.  Alternatively, you can use 'dpkg -l' to list all installed packages and their dependencies.  If you want to list just the packages in the 'recommended' or 'universe' repository, you can use 'dpkg -l | grep universe' or 'dpkg -l | grep recommended' respectively.  If you want to list just the packages that are not recommended, you can use 'dpkg -l | grep -v recommended'.  If you want to list all the packages installed on a specific machine, you can use 'cat /var/lib/apt\n"
     ]
    }
   ],
   "source": [
    "import torch\n",
    "#Query the model \n",
    "question = [\"How do i get a list of all installed packages?\"]\n",
    "input_ids = tokenizer(question, return_tensors=\"pt\").input_ids\n",
    "outputs = model.generate(input_ids, max_new_tokens=200)\n",
    "print(tokenizer.decode(outputs[0]))"
   ]
  }
 ],
 "metadata": {
  "kernelspec": {
   "display_name": "Python 3 (ipykernel)",
   "language": "python",
   "name": "python3"
  },
  "language_info": {
   "codemirror_mode": {
    "name": "ipython",
    "version": 3
   },
   "file_extension": ".py",
   "mimetype": "text/x-python",
   "name": "python",
   "nbconvert_exporter": "python",
   "pygments_lexer": "ipython3",
   "version": "3.11.4"
  }
 },
 "nbformat": 4,
 "nbformat_minor": 5
}
